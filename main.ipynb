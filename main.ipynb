{
 "cells": [
  {
   "cell_type": "markdown",
   "metadata": {},
   "source": [
    "# Data process\n",
    "\n",
    "Suppose submodule is pulled, we now\n",
    "\n",
    "1. Download label data from the website.\n",
    "2. Parse those data, filter out useless properties, and save them as a csv file.\n",
    "   - each data item contains \n",
    "     1. the btor2 file name\n",
    "     2. the validator\n",
    "     3. the result"
   ]
  },
  {
   "cell_type": "code",
   "execution_count": 1,
   "metadata": {},
   "outputs": [],
   "source": [
    "import urllib\n",
    "# user should set their own proxy...\n",
    "proxies = {'https': 'http://172.31.80.1:7890', 'http': 'http://172.31.80.1:7890', 'all': 'sock5://172.31.80.1:7891'}"
   ]
  },
  {
   "cell_type": "markdown",
   "metadata": {},
   "source": [
    "**Download and decompress the labels.**"
   ]
  },
  {
   "cell_type": "code",
   "execution_count": 3,
   "metadata": {},
   "outputs": [
    {
     "name": "stdout",
     "output_type": "stream",
     "text": [
      "<Response [200]>\n"
     ]
    }
   ],
   "source": [
    "import requests\n",
    "from bs4 import BeautifulSoup\n",
    "import re\n",
    "\n",
    "url = \"https://www.cip.ifi.lmu.de/~chien/benchexec-results/btor2c-eval/final-full-results/\"\n",
    "\n",
    "# Send a GET request to the URL\n",
    "response = requests.get(url, proxies=proxies)\n",
    "\n",
    "print(response)\n",
    "\n",
    "# Parse the HTML content using BeautifulSoup\n",
    "soup = BeautifulSoup(response.content, \"html.parser\")\n",
    "\n",
    "# Find all <a> tags that contain the file links\n",
    "file_links = soup.find_all(\"a\")\n",
    "\n",
    "# Extract the href attribute from each <a> tag\n",
    "file_names = [link.get(\"href\") for link in file_links]"
   ]
  },
  {
   "cell_type": "code",
   "execution_count": 4,
   "metadata": {},
   "outputs": [
    {
     "name": "stdout",
     "output_type": "stream",
     "text": [
      "(cpachecker|esbmc|veriabs)-lazyMod.*.results.*.bv-64.xml.bz2\n",
      "cpachecker-lazyMod.2023-01-17_17-25-41.results.predAbs.bv-64.xml.bz2\n",
      "cpachecker-lazyMod.2023-01-18_01-24-33.results.bmc-boolector-noPtrAlias.bv-64.xml.bz2\n",
      "esbmc-lazyMod.2023-01-17_19-41-45.results.kind.bv-64.xml.bz2\n",
      "esbmc-lazyMod.2023-01-18_02-08-43.results.bmc.bv-64.xml.bz2\n",
      "veriabs-lazyMod.2023-01-17_22-40-24.results.default.bv-64.xml.bz2\n"
     ]
    }
   ],
   "source": [
    "tools = [\"cpachecker\", \"esbmc\", \"veriabs\"]\n",
    "\n",
    "# Define the regular expression pattern\n",
    "# <tool_name>-lazyMod.*.results.*.bv-64.xml.bz2\n",
    "pattern = fr\"({'|'.join(tools)})-lazyMod.*.results.*.bv-64.xml.bz2\"\n",
    "print(pattern)\n",
    "# Filter file_names using the pattern\n",
    "filtered_file_names = [file_name for file_name in file_names if re.fullmatch(pattern, file_name)]\n",
    "\n",
    "# Print the filtered file names\n",
    "for file_name in filtered_file_names:\n",
    "    print(file_name)"
   ]
  },
  {
   "cell_type": "code",
   "execution_count": 9,
   "metadata": {},
   "outputs": [],
   "source": [
    "import os\n",
    "import urllib.request\n",
    "\n",
    "base_url = \"https://www.cip.ifi.lmu.de/~chien/benchexec-results/btor2c-eval/final-full-results/\"\n",
    "label_directory = \"labels/\"\n",
    "\n",
    "for file_name in filtered_file_names:\n",
    "    url = base_url + file_name\n",
    "    destination = label_directory + file_name\n",
    "    \n",
    "    if not os.path.exists(destination):\n",
    "        urllib.request.urlretrieve(url, destination)"
   ]
  },
  {
   "cell_type": "code",
   "execution_count": 13,
   "metadata": {},
   "outputs": [],
   "source": [
    "import bz2\n",
    "import os\n",
    "\n",
    "# Loop through each bz2 file in the directory\n",
    "for file_name in filtered_file_names:\n",
    "    bz2_file_path = label_directory + file_name\n",
    "    extract_path = label_directory + file_name[:-4]  # Remove the .bz2 extension\n",
    "    \n",
    "    # Open the bz2 file\n",
    "    with bz2.open(bz2_file_path, 'rb') as bz2_file:\n",
    "        # Read the compressed data\n",
    "        data = bz2_file.read()\n",
    "        \n",
    "        # Write the decompressed data to a new file\n",
    "        with open(extract_path, 'wb') as extract_file:\n",
    "            extract_file.write(data)\n"
   ]
  },
  {
   "cell_type": "markdown",
   "metadata": {},
   "source": [
    "**parse the xml label files to csv files.**"
   ]
  },
  {
   "cell_type": "code",
   "execution_count": 59,
   "metadata": {},
   "outputs": [
    {
     "name": "stdout",
     "output_type": "stream",
     "text": [
      "word-level-hwmc-benchmarks/bv/btor2/\n"
     ]
    }
   ],
   "source": [
    "import yaml\n",
    "\n",
    "# Load the config.yaml file\n",
    "with open('config.yaml', 'r') as file:\n",
    "    config = yaml.safe_load(file)\n",
    "\n",
    "# Access the value of dataset.path\n",
    "dataset_path = config['dataset']['directory']\n",
    "\n",
    "# Print the dataset path\n",
    "print(dataset_path)"
   ]
  },
  {
   "cell_type": "code",
   "execution_count": 90,
   "metadata": {},
   "outputs": [
    {
     "name": "stdout",
     "output_type": "stream",
     "text": [
      "{'yml': 'word-level-hwmc-benchmarks/bv/btor2/beem/adding.1.prop1-back-serstep.yml', 'btor2': 'word-level-hwmc-benchmarks/bv/btor2/beem/adding.1.prop1-back-serstep.btor2', 'c': 'word-level-hwmc-benchmarks/bv/btor2/beem/adding.1.prop1-back-serstep.c', 'property': 'unreach-call', 'propertyFile': 'word-level-hwmc-benchmarks/bv/btor2/../../properties/unreach-call.prp', 'expectedVerdict': 'false', 'cputime': 901.71803173, 'memory': 346869760, 'status': 'FAILED'}\n"
     ]
    }
   ],
   "source": [
    "xml_label_files = [label_directory + file_name[:-4] for file_name in filtered_file_names]\n",
    "\n",
    "import xml.etree.ElementTree as ET\n",
    "\n",
    "runs = []\n",
    "\n",
    "for xml_file in xml_label_files:\n",
    "    run = []\n",
    "    tree = ET.parse(xml_file)\n",
    "    root = tree.getroot()\n",
    "    run_children = root.findall('run')\n",
    "    for run_node in run_children:\n",
    "        parent_dir = os.path.basename(os.path.dirname(run_node.attrib['files'])) + \"/\"\n",
    "        item = {\n",
    "            'yml': dataset_path + parent_dir + os.path.basename(run_node.attrib['name']),\n",
    "            'btor2': dataset_path + parent_dir + os.path.basename(run_node.attrib['files'][:-2]) + 'btor2',\n",
    "            'c': dataset_path + parent_dir + os.path.basename(run_node.attrib['files'][:-1]),\n",
    "            'property': run_node.attrib['properties'],\n",
    "            'propertyFile': dataset_path + \"../../properties/\" + os.path.basename(run_node.attrib['propertyFile']),\n",
    "            'expectedVerdict': run_node.attrib['expectedVerdict'],\n",
    "        }\n",
    "        # run_node.attrib\n",
    "        properties = run_node.findall('column')\n",
    "        for property_node in properties:\n",
    "            if property_node.attrib['title'] == 'cputime':\n",
    "                item['cputime'] = float(property_node.attrib['value'][:-1])\n",
    "            elif property_node.attrib['title'] == 'memory':\n",
    "                item['memory'] = int(property_node.attrib['value'][:-1])\n",
    "            elif property_node.attrib['title'] == 'status':\n",
    "                item['status'] = \\\n",
    "                    'TRUE' if 'true' in property_node.attrib['value'] else \\\n",
    "                    'FALSE' if 'false' in property_node.attrib['value'] else \\\n",
    "                    'FAILED'\n",
    "        run.append(item)\n",
    "    runs.append(run)\n",
    "# we have 5 files, each of them contains 1342 items\n",
    "print(runs[0][0])"
   ]
  },
  {
   "cell_type": "markdown",
   "metadata": {},
   "source": [
    "**Note that we need to invoke btor2c**"
   ]
  },
  {
   "cell_type": "code",
   "execution_count": 94,
   "metadata": {},
   "outputs": [],
   "source": [
    "for run in runs:\n",
    "    for test in run:\n",
    "        if not os.path.exists(test['btor2']):\n",
    "            print(test['btor2'])\n",
    "        if not os.path.exists(test['yml']):\n",
    "            print(test['yml'])\n",
    "        # if not os.path.exists(test['c']):\n",
    "        #     print(test['c'])\n",
    "        if not os.path.exists(test['propertyFile']):\n",
    "            print(test['propertyFile'])"
   ]
  },
  {
   "cell_type": "markdown",
   "metadata": {},
   "source": [
    "TODO: cputime, status, memory need to be summarized into one property "
   ]
  },
  {
   "cell_type": "code",
   "execution_count": 100,
   "metadata": {},
   "outputs": [],
   "source": [
    "import json\n",
    "import pickle\n",
    "\n",
    "# Dump the runs dictionary into a pickle file\n",
    "with open('runs.pickle', 'wb') as file:\n",
    "    pickle.dump(runs, file)"
   ]
  },
  {
   "cell_type": "code",
   "execution_count": 97,
   "metadata": {},
   "outputs": [
    {
     "name": "stdout",
     "output_type": "stream",
     "text": [
      "{'yml': 'word-level-hwmc-benchmarks/bv/btor2/beem/adding.1.prop1-back-serstep.yml', 'btor2': 'word-level-hwmc-benchmarks/bv/btor2/beem/adding.1.prop1-back-serstep.btor2', 'c': 'word-level-hwmc-benchmarks/bv/btor2/beem/adding.1.prop1-back-serstep.c', 'property': 'unreach-call', 'propertyFile': 'word-level-hwmc-benchmarks/bv/btor2/../../properties/unreach-call.prp', 'expectedVerdict': 'false', 'cputime': 901.71803173, 'memory': 346869760, 'status': 'FAILED'}\n"
     ]
    }
   ],
   "source": [
    "\n"
   ]
  }
 ],
 "metadata": {
  "kernelspec": {
   "display_name": "Python 3",
   "language": "python",
   "name": "python3"
  },
  "language_info": {
   "codemirror_mode": {
    "name": "ipython",
    "version": 3
   },
   "file_extension": ".py",
   "mimetype": "text/x-python",
   "name": "python",
   "nbconvert_exporter": "python",
   "pygments_lexer": "ipython3",
   "version": "3.11.8"
  }
 },
 "nbformat": 4,
 "nbformat_minor": 2
}
