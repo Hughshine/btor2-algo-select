{
 "cells": [
  {
   "cell_type": "code",
   "execution_count": 5,
   "metadata": {},
   "outputs": [],
   "source": [
    "import urllib\n",
    "proxies = {'https': 'http://172.17.128.1:7890', 'http': 'http://172.17.128.1:7890', 'all': 'sock5://172.17.128.1:7891'}"
   ]
  },
  {
   "cell_type": "code",
   "execution_count": 13,
   "metadata": {},
   "outputs": [
    {
     "name": "stdout",
     "output_type": "stream",
     "text": [
      "<Response [200]>\n",
      "['?C=N;O=D', '?C=M;O=A', '?C=S;O=A', '?C=D;O=A', '/~chien/benchexec-results/btor2c-eval/', 'abc.2023-01-17_14-53-12.logfiles.zip', 'abc.2023-01-17_14-53-12.results.pdr.bv-64.txt', 'abc.2023-01-17_14-53-12.results.pdr.bv-64.xml.bz2', 'abc.2023-01-17_14-53-12.results.pdr.bv-64.xml.bz2.bak', 'abc.2023-01-18_00-15-18.logfiles.zip', 'abc.2023-01-18_00-15-18.results.bmc.bv-64.txt', 'abc.2023-01-18_00-15-18.results.bmc.bv-64.xml.bz2', 'abc.2023-01-18_00-15-18.results.bmc.bv-64.xml.bz2.bak', 'avr.2023-01-17_15-17-26.logfiles.zip', 'avr.2023-01-17_15-17-26.results.kind.arr-64.xml.bz2', 'avr.2023-01-17_15-17-26.results.kind.arr-64.xml.bz2.bak', 'avr.2023-01-17_15-17-26.results.kind.bv-64.xml.bz2', 'avr.2023-01-17_15-17-26.results.kind.bv-64.xml.bz2.bak', 'avr.2023-01-17_15-17-26.results.kind.xml.bz2', 'avr.2023-01-17_15-17-26.results.kind.xml.bz2.bak', 'avr.2023-01-17_15-17-26.results.pdr.arr-64.xml.bz2', 'avr.2023-01-17_15-17-26.results.pdr.arr-64.xml.bz2.bak', 'avr.2023-01-17_15-17-26.results.pdr.bv-64.xml.bz2', 'avr.2023-01-17_15-17-26.results.pdr.bv-64.xml.bz2.bak', 'avr.2023-01-17_15-17-26.results.pdr.xml.bz2', 'avr.2023-01-17_15-17-26.results.pdr.xml.bz2.bak', 'avr.2023-01-17_15-17-26.results.txt', 'avr.2023-01-18_00-47-45.logfiles.zip', 'avr.2023-01-18_00-47-45.results.bmc.bv-64.txt', 'avr.2023-01-18_00-47-45.results.bmc.bv-64.xml.bz2', 'avr.2023-01-18_00-47-45.results.bmc.bv-64.xml.bz2.bak', 'cpachecker-eagerMod.2023-01-17_16-31-41.logfiles.zip', 'cpachecker-eagerMod.2023-01-17_16-31-41.results.predAbs.arr-64.xml.bz2', 'cpachecker-eagerMod.2023-01-17_16-31-41.results.predAbs.arr-64.xml.bz2.bak', 'cpachecker-eagerMod.2023-01-17_16-31-41.results.predAbs.bv-64.xml.bz2', 'cpachecker-eagerMod.2023-01-17_16-31-41.results.predAbs.bv-64.xml.bz2.bak', 'cpachecker-eagerMod.2023-01-17_16-31-41.results.predAbs.txt', 'cpachecker-eagerMod.2023-01-17_16-31-41.results.predAbs.xml.bz2', 'cpachecker-eagerMod.2023-01-17_16-31-41.results.predAbs.xml.bz2.bak', 'cpachecker-lazyMod.2023-01-17_17-25-41.logfiles.zip', 'cpachecker-lazyMod.2023-01-17_17-25-41.results.predAbs.arr-64.xml.bz2', 'cpachecker-lazyMod.2023-01-17_17-25-41.results.predAbs.arr-64.xml.bz2.bak', 'cpachecker-lazyMod.2023-01-17_17-25-41.results.predAbs.bv-64.xml.bz2', 'cpachecker-lazyMod.2023-01-17_17-25-41.results.predAbs.bv-64.xml.bz2.bak', 'cpachecker-lazyMod.2023-01-17_17-25-41.results.predAbs.txt', 'cpachecker-lazyMod.2023-01-17_17-25-41.results.predAbs.xml.bz2', 'cpachecker-lazyMod.2023-01-17_17-25-41.results.predAbs.xml.bz2.bak', 'cpachecker-lazyMod.2023-01-18_01-24-33.logfiles.zip', 'cpachecker-lazyMod.2023-01-18_01-24-33.results.bmc-boolector-noPtrAlias.bv-64.txt', 'cpachecker-lazyMod.2023-01-18_01-24-33.results.bmc-boolector-noPtrAlias.bv-64.xml.bz2', 'cpachecker-lazyMod.2023-01-18_01-24-33.results.bmc-boolector-noPtrAlias.bv-64.xml.bz2.bak', 'cpachecker-v2c.2023-01-18_03-01-26.logfiles.zip', 'cpachecker-v2c.2023-01-18_03-01-26.results.predAbs.bv-btor2c.txt', 'cpachecker-v2c.2023-01-18_03-01-26.results.predAbs.bv-btor2c.xml.bz2', 'cpachecker-v2c.2023-01-18_03-01-26.results.predAbs.bv-btor2c.xml.bz2.bak', 'cpachecker-v2c.2023-01-18_03-24-50.logfiles.zip', 'cpachecker-v2c.2023-01-18_03-24-50.results.predAbs.bv-v2c.txt', 'cpachecker-v2c.2023-01-18_03-24-50.results.predAbs.bv-v2c.xml.bz2', 'cpachecker-v2c.2023-01-18_03-24-50.results.predAbs.bv-v2c.xml.bz2.bak', 'esbmc-eagerMod.2023-01-17_18-38-57.logfiles.zip', 'esbmc-eagerMod.2023-01-17_18-38-57.logfiles/', 'esbmc-eagerMod.2023-01-17_18-38-57.results.kind.arr-64.xml.bz2', 'esbmc-eagerMod.2023-01-17_18-38-57.results.kind.arr-64.xml.bz2.bak', 'esbmc-eagerMod.2023-01-17_18-38-57.results.kind.bv-64.xml.bz2', 'esbmc-eagerMod.2023-01-17_18-38-57.results.kind.bv-64.xml.bz2.bak', 'esbmc-eagerMod.2023-01-17_18-38-57.results.kind.txt', 'esbmc-eagerMod.2023-01-17_18-38-57.results.kind.xml.bz2', 'esbmc-eagerMod.2023-01-17_18-38-57.results.kind.xml.bz2.bak', 'esbmc-lazyMod.2023-01-17_19-41-45.logfiles.zip', 'esbmc-lazyMod.2023-01-17_19-41-45.logfiles/', 'esbmc-lazyMod.2023-01-17_19-41-45.results.kind.arr-64.xml.bz2', 'esbmc-lazyMod.2023-01-17_19-41-45.results.kind.arr-64.xml.bz2.bak', 'esbmc-lazyMod.2023-01-17_19-41-45.results.kind.bv-64.xml.bz2', 'esbmc-lazyMod.2023-01-17_19-41-45.results.kind.bv-64.xml.bz2.bak', 'esbmc-lazyMod.2023-01-17_19-41-45.results.kind.txt', 'esbmc-lazyMod.2023-01-17_19-41-45.results.kind.xml.bz2', 'esbmc-lazyMod.2023-01-17_19-41-45.results.kind.xml.bz2.bak', 'esbmc-lazyMod.2023-01-18_02-08-43.logfiles.zip', 'esbmc-lazyMod.2023-01-18_02-08-43.logfiles/', 'esbmc-lazyMod.2023-01-18_02-08-43.results.bmc.bv-64.txt', 'esbmc-lazyMod.2023-01-18_02-08-43.results.bmc.bv-64.xml.bz2', 'esbmc-lazyMod.2023-01-18_02-08-43.results.bmc.bv-64.xml.bz2.bak', 'esbmc-v2c.2023-01-18_03-39-46.logfiles.zip', 'esbmc-v2c.2023-01-18_03-39-46.results.kind.bv-btor2c.txt', 'esbmc-v2c.2023-01-18_03-39-46.results.kind.bv-btor2c.xml.bz2', 'esbmc-v2c.2023-01-18_03-39-46.results.kind.bv-btor2c.xml.bz2.bak', 'esbmc-v2c.2023-01-18_03-55-57.logfiles.zip', 'esbmc-v2c.2023-01-18_03-55-57.results.kind.bv-v2c.txt', 'esbmc-v2c.2023-01-18_03-55-57.results.kind.bv-v2c.xml.bz2', 'esbmc-v2c.2023-01-18_03-55-57.results.kind.bv-v2c.xml.bz2.bak', 'fig5.bug-hunting.table.html', 'fusebmc-lazyMod.2023-01-18_02-43-45.files/', 'fusebmc-lazyMod.2023-01-18_02-43-45.logfiles.zip', 'fusebmc-lazyMod.2023-01-18_02-43-45.results.default.bv-false64.txt', 'fusebmc-lazyMod.2023-01-18_02-43-45.results.default.bv-false64.xml.bz2', 'fusebmc-lazyMod.2023-01-18_02-43-45.results.default.bv-false64.xml.bz2.bak', 'tab1.all-verifiers.table.html', 'tab2.v2c-comparison.table.html', 'veriabs-eagerMod.2023-01-17_21-07-15.logfiles.zip', 'veriabs-eagerMod.2023-01-17_21-07-15.logfiles/', 'veriabs-eagerMod.2023-01-17_21-07-15.results.default.arr-64.xml.bz2', 'veriabs-eagerMod.2023-01-17_21-07-15.results.default.arr-64.xml.bz2.bak', 'veriabs-eagerMod.2023-01-17_21-07-15.results.default.bv-64.xml.bz2', 'veriabs-eagerMod.2023-01-17_21-07-15.results.default.bv-64.xml.bz2.bak', 'veriabs-eagerMod.2023-01-17_21-07-15.results.default.txt', 'veriabs-eagerMod.2023-01-17_21-07-15.results.default.xml.bz2', 'veriabs-eagerMod.2023-01-17_21-07-15.results.default.xml.bz2.bak', 'veriabs-lazyMod.2023-01-17_22-40-24.logfiles.zip', 'veriabs-lazyMod.2023-01-17_22-40-24.logfiles/', 'veriabs-lazyMod.2023-01-17_22-40-24.results.default.arr-64.xml.bz2', 'veriabs-lazyMod.2023-01-17_22-40-24.results.default.arr-64.xml.bz2.bak', 'veriabs-lazyMod.2023-01-17_22-40-24.results.default.bv-64.xml.bz2', 'veriabs-lazyMod.2023-01-17_22-40-24.results.default.bv-64.xml.bz2.bak', 'veriabs-lazyMod.2023-01-17_22-40-24.results.default.txt', 'veriabs-lazyMod.2023-01-17_22-40-24.results.default.xml.bz2', 'veriabs-lazyMod.2023-01-17_22-40-24.results.default.xml.bz2.bak', 'veriabs-v2c.2023-01-18_04-12-06.logfiles.zip', 'veriabs-v2c.2023-01-18_04-12-06.logfiles/', 'veriabs-v2c.2023-01-18_04-12-06.results.default.bv-btor2c.txt', 'veriabs-v2c.2023-01-18_04-12-06.results.default.bv-btor2c.xml.bz2', 'veriabs-v2c.2023-01-18_04-12-06.results.default.bv-btor2c.xml.bz2.bak', 'veriabs-v2c.2023-01-18_04-40-53.logfiles.zip', 'veriabs-v2c.2023-01-18_04-40-53.logfiles/', 'veriabs-v2c.2023-01-18_04-40-53.results.default.bv-v2c.txt', 'veriabs-v2c.2023-01-18_04-40-53.results.default.bv-v2c.xml.bz2', 'veriabs-v2c.2023-01-18_04-40-53.results.default.bv-v2c.xml.bz2.bak'] \n",
      "\n"
     ]
    }
   ],
   "source": [
    "import requests\n",
    "from bs4 import BeautifulSoup\n",
    "import re\n",
    "\n",
    "url = \"https://www.cip.ifi.lmu.de/~chien/benchexec-results/btor2c-eval/final-full-results/\"\n",
    "\n",
    "# Send a GET request to the URL\n",
    "response = requests.get(url, proxies=proxies)\n",
    "\n",
    "print(response)\n",
    "\n",
    "# Parse the HTML content using BeautifulSoup\n",
    "soup = BeautifulSoup(response.content, \"html.parser\")\n",
    "\n",
    "# Find all <a> tags that contain the file links\n",
    "file_links = soup.find_all(\"a\")\n",
    "\n",
    "# Extract the href attribute from each <a> tag\n",
    "file_names = [link.get(\"href\") for link in file_links]"
   ]
  },
  {
   "cell_type": "code",
   "execution_count": 21,
   "metadata": {},
   "outputs": [
    {
     "name": "stdout",
     "output_type": "stream",
     "text": [
      "(cpachecker|esbmc|veriabs)-lazyMod.*.results.*.bv-64.xml.bz2\n",
      "cpachecker-lazyMod.2023-01-17_17-25-41.results.predAbs.bv-64.xml.bz2\n",
      "cpachecker-lazyMod.2023-01-18_01-24-33.results.bmc-boolector-noPtrAlias.bv-64.xml.bz2\n",
      "esbmc-lazyMod.2023-01-17_19-41-45.results.kind.bv-64.xml.bz2\n",
      "esbmc-lazyMod.2023-01-18_02-08-43.results.bmc.bv-64.xml.bz2\n",
      "veriabs-lazyMod.2023-01-17_22-40-24.results.default.bv-64.xml.bz2\n"
     ]
    }
   ],
   "source": [
    "\n",
    "tools = [\"cpachecker\", \"esbmc\", \"veriabs\"]\n",
    "\n",
    "# Define the regular expression pattern\n",
    "# <tool_name>-lazyMod.*.results.*.bv-64.xml.bz2\n",
    "pattern = fr\"({'|'.join(tools)})-lazyMod.*.results.*.bv-64.xml.bz2\"\n",
    "print(pattern)\n",
    "# Filter file_names using the pattern\n",
    "filtered_file_names = [file_name for file_name in file_names if re.fullmatch(pattern, file_name)]\n",
    "\n",
    "# Print the filtered file names\n",
    "for file_name in filtered_file_names:\n",
    "    print(file_name)"
   ]
  },
  {
   "cell_type": "code",
   "execution_count": null,
   "metadata": {},
   "outputs": [],
   "source": []
  }
 ],
 "metadata": {
  "kernelspec": {
   "display_name": "Python 3",
   "language": "python",
   "name": "python3"
  },
  "language_info": {
   "codemirror_mode": {
    "name": "ipython",
    "version": 3
   },
   "file_extension": ".py",
   "mimetype": "text/x-python",
   "name": "python",
   "nbconvert_exporter": "python",
   "pygments_lexer": "ipython3",
   "version": "3.11.8"
  }
 },
 "nbformat": 4,
 "nbformat_minor": 2
}
